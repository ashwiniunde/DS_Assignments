{
 "cells": [
  {
   "cell_type": "markdown",
   "id": "7a674052-aed5-4579-ac76-80e2b2ac097b",
   "metadata": {},
   "source": [
    "Problem Statement: \n",
    "\r\n",
    "A Mobile Phone manufacturing company wants to launch its three brand new phone into the market, but before going with its traditional marketing approach this time it want to analyze the data of its previous model sales in different regions and you have been hired as an Data Scientist to help them out, use the Association rules concept and provide your insights to the company’s marketing team to improve its sales.\r\n"
   ]
  },
  {
   "cell_type": "markdown",
   "id": "e6641926-fc52-41c4-84d1-82afa8683de1",
   "metadata": {},
   "source": [
    "Business Objective:\n",
    "\n",
    "Understand Sales Trends: Look at past sales data to find patterns, such as which phone models were popular in different regions and why.\n",
    "\n",
    "Group Customers: Identify different types of customers based on their buying habits, so marketing efforts can be tailored to specific groups.\n",
    "\n",
    "Improve Marketing: Use the analysis to create targeted marketing campaigns that highlight features and promotions relevant to specific customer segments.\n",
    "\n",
    "Plan the Launch: Based on past sales, determine the best ways to launch the new phone models to make the most of marketing efforts.\n",
    "\n",
    "Increase Sales: The main goal is to boost sales of the new phone models by using insights from the data to attract more customers.\n",
    "\n"
   ]
  },
  {
   "cell_type": "markdown",
   "id": "94db7c14-998a-48b1-b043-bbbd74271dca",
   "metadata": {},
   "source": [
    "Constraints:\n",
    "Data Quality: The analysis depends on having accurate and complete sales data. Missing or incorrect data could lead to wrong conclusions.\n",
    "\n",
    "Privacy Rules: The analysis must follow privacy laws to make sure customer data is used ethically and legally.\n",
    "\n",
    "Budget Limits: Limited financial resources may affect how much can be spent on marketing strategies.\n",
    "\n",
    "Changing Market: Customer preferences can change quickly due to factors like new technology or economic shifts, making predictions difficult.\n",
    "\n",
    "Expertise Needed: The company may need skilled analysts to properly understand the data and make the right decisions based on the results.\n",
    "\n",
    "Limited Time: There may be a short timeframe to complete the analysis before the new phones launch, which could limit the depth of the insights.\n",
    "\n",
    "\n",
    "\n",
    "\n",
    "\n",
    "\n"
   ]
  },
  {
   "cell_type": "code",
   "execution_count": 3,
   "id": "f73e3d77-6d6f-4f2d-b753-0d08b7f316b7",
   "metadata": {},
   "outputs": [],
   "source": [
    "#First import all the libraries\n",
    "import pandas as pd\n",
    "from mlxtend.frequent_patterns import apriori,association_rules\n",
    "from mlxtend.preprocessing import TransactionEncoder"
   ]
  },
  {
   "cell_type": "code",
   "execution_count": 4,
   "id": "c2c87bfa-d79a-40e5-a36b-d7fd1382304c",
   "metadata": {},
   "outputs": [
    {
     "data": {
      "text/html": [
       "<div>\n",
       "<style scoped>\n",
       "    .dataframe tbody tr th:only-of-type {\n",
       "        vertical-align: middle;\n",
       "    }\n",
       "\n",
       "    .dataframe tbody tr th {\n",
       "        vertical-align: top;\n",
       "    }\n",
       "\n",
       "    .dataframe thead th {\n",
       "        text-align: right;\n",
       "    }\n",
       "</style>\n",
       "<table border=\"1\" class=\"dataframe\">\n",
       "  <thead>\n",
       "    <tr style=\"text-align: right;\">\n",
       "      <th></th>\n",
       "      <th>red</th>\n",
       "      <th>white</th>\n",
       "      <th>green</th>\n",
       "      <th>yellow</th>\n",
       "      <th>orange</th>\n",
       "      <th>blue</th>\n",
       "    </tr>\n",
       "  </thead>\n",
       "  <tbody>\n",
       "    <tr>\n",
       "      <th>0</th>\n",
       "      <td>1</td>\n",
       "      <td>1</td>\n",
       "      <td>1</td>\n",
       "      <td>0</td>\n",
       "      <td>0</td>\n",
       "      <td>0</td>\n",
       "    </tr>\n",
       "    <tr>\n",
       "      <th>1</th>\n",
       "      <td>0</td>\n",
       "      <td>1</td>\n",
       "      <td>0</td>\n",
       "      <td>0</td>\n",
       "      <td>1</td>\n",
       "      <td>0</td>\n",
       "    </tr>\n",
       "    <tr>\n",
       "      <th>2</th>\n",
       "      <td>0</td>\n",
       "      <td>1</td>\n",
       "      <td>0</td>\n",
       "      <td>0</td>\n",
       "      <td>0</td>\n",
       "      <td>1</td>\n",
       "    </tr>\n",
       "    <tr>\n",
       "      <th>3</th>\n",
       "      <td>1</td>\n",
       "      <td>1</td>\n",
       "      <td>0</td>\n",
       "      <td>0</td>\n",
       "      <td>1</td>\n",
       "      <td>0</td>\n",
       "    </tr>\n",
       "    <tr>\n",
       "      <th>4</th>\n",
       "      <td>1</td>\n",
       "      <td>0</td>\n",
       "      <td>0</td>\n",
       "      <td>0</td>\n",
       "      <td>0</td>\n",
       "      <td>1</td>\n",
       "    </tr>\n",
       "  </tbody>\n",
       "</table>\n",
       "</div>"
      ],
      "text/plain": [
       "   red  white  green  yellow  orange  blue\n",
       "0    1      1      1       0       0     0\n",
       "1    0      1      0       0       1     0\n",
       "2    0      1      0       0       0     1\n",
       "3    1      1      0       0       1     0\n",
       "4    1      0      0       0       0     1"
      ]
     },
     "execution_count": 4,
     "metadata": {},
     "output_type": "execute_result"
    }
   ],
   "source": [
    "#load dataset\n",
    "df=pd.read_csv(\"myphonedata.csv\")\n",
    "df.head()"
   ]
  },
  {
   "cell_type": "code",
   "execution_count": 7,
   "id": "fa8189c0-1e43-49b8-9817-f1f23ff6b7af",
   "metadata": {},
   "outputs": [
    {
     "name": "stderr",
     "output_type": "stream",
     "text": [
      "C:\\Users\\Hp\\anaconda3\\Lib\\site-packages\\mlxtend\\frequent_patterns\\fpcommon.py:109: DeprecationWarning: DataFrames with non-bool types result in worse computationalperformance and their support might be discontinued in the future.Please use a DataFrame with bool type\n",
      "  warnings.warn(\n"
     ]
    },
    {
     "data": {
      "text/html": [
       "<div>\n",
       "<style scoped>\n",
       "    .dataframe tbody tr th:only-of-type {\n",
       "        vertical-align: middle;\n",
       "    }\n",
       "\n",
       "    .dataframe tbody tr th {\n",
       "        vertical-align: top;\n",
       "    }\n",
       "\n",
       "    .dataframe thead th {\n",
       "        text-align: right;\n",
       "    }\n",
       "</style>\n",
       "<table border=\"1\" class=\"dataframe\">\n",
       "  <thead>\n",
       "    <tr style=\"text-align: right;\">\n",
       "      <th></th>\n",
       "      <th>support</th>\n",
       "      <th>itemsets</th>\n",
       "    </tr>\n",
       "  </thead>\n",
       "  <tbody>\n",
       "    <tr>\n",
       "      <th>0</th>\n",
       "      <td>0.545455</td>\n",
       "      <td>(red)</td>\n",
       "    </tr>\n",
       "    <tr>\n",
       "      <th>1</th>\n",
       "      <td>0.636364</td>\n",
       "      <td>(white)</td>\n",
       "    </tr>\n",
       "    <tr>\n",
       "      <th>2</th>\n",
       "      <td>0.181818</td>\n",
       "      <td>(green)</td>\n",
       "    </tr>\n",
       "    <tr>\n",
       "      <th>3</th>\n",
       "      <td>0.181818</td>\n",
       "      <td>(orange)</td>\n",
       "    </tr>\n",
       "    <tr>\n",
       "      <th>4</th>\n",
       "      <td>0.545455</td>\n",
       "      <td>(blue)</td>\n",
       "    </tr>\n",
       "    <tr>\n",
       "      <th>5</th>\n",
       "      <td>0.363636</td>\n",
       "      <td>(white, red)</td>\n",
       "    </tr>\n",
       "    <tr>\n",
       "      <th>6</th>\n",
       "      <td>0.363636</td>\n",
       "      <td>(blue, red)</td>\n",
       "    </tr>\n",
       "    <tr>\n",
       "      <th>7</th>\n",
       "      <td>0.181818</td>\n",
       "      <td>(orange, white)</td>\n",
       "    </tr>\n",
       "    <tr>\n",
       "      <th>8</th>\n",
       "      <td>0.363636</td>\n",
       "      <td>(blue, white)</td>\n",
       "    </tr>\n",
       "    <tr>\n",
       "      <th>9</th>\n",
       "      <td>0.181818</td>\n",
       "      <td>(blue, white, red)</td>\n",
       "    </tr>\n",
       "  </tbody>\n",
       "</table>\n",
       "</div>"
      ],
      "text/plain": [
       "    support            itemsets\n",
       "0  0.545455               (red)\n",
       "1  0.636364             (white)\n",
       "2  0.181818             (green)\n",
       "3  0.181818            (orange)\n",
       "4  0.545455              (blue)\n",
       "5  0.363636        (white, red)\n",
       "6  0.363636         (blue, red)\n",
       "7  0.181818     (orange, white)\n",
       "8  0.363636       (blue, white)\n",
       "9  0.181818  (blue, white, red)"
      ]
     },
     "execution_count": 7,
     "metadata": {},
     "output_type": "execute_result"
    }
   ],
   "source": [
    "#Our dataset is in proper format that is required for Apriori\n",
    "#step2:Apply the apriori algorithm to find frequent itemsets\n",
    "frequent_itemsets=apriori(df,min_support=0.1,use_colnames=True)\n",
    "frequent_itemsets"
   ]
  },
  {
   "cell_type": "code",
   "execution_count": 9,
   "id": "319b760a-8d0f-4ad8-9145-2c96374c9ff3",
   "metadata": {},
   "outputs": [],
   "source": [
    "#step3:Generate association rules from the frequent itemsets\n",
    "rules=association_rules(frequent_itemsets,metric=\"lift\",min_threshold=1)"
   ]
  },
  {
   "cell_type": "code",
   "execution_count": 11,
   "id": "b74aea3c-86c8-4871-8872-1f3f4f5c0c46",
   "metadata": {},
   "outputs": [
    {
     "name": "stdout",
     "output_type": "stream",
     "text": [
      "Frequent Itemsets:\n",
      "    support            itemsets\n",
      "0  0.545455               (red)\n",
      "1  0.636364             (white)\n",
      "2  0.181818             (green)\n",
      "3  0.181818            (orange)\n",
      "4  0.545455              (blue)\n",
      "5  0.363636        (white, red)\n",
      "6  0.363636         (blue, red)\n",
      "7  0.181818     (orange, white)\n",
      "8  0.363636       (blue, white)\n",
      "9  0.181818  (blue, white, red)\n"
     ]
    }
   ],
   "source": [
    "#step4:Output the results\n",
    "print(\"Frequent Itemsets:\")\n",
    "print(frequent_itemsets)"
   ]
  },
  {
   "cell_type": "code",
   "execution_count": 13,
   "id": "057b2a64-d51e-4619-a30b-fe2de8bced36",
   "metadata": {},
   "outputs": [
    {
     "name": "stdout",
     "output_type": "stream",
     "text": [
      "\n",
      "Association Rules:\n",
      "  antecedents consequents   support  confidence      lift\n",
      "0     (white)       (red)  0.363636    0.571429  1.047619\n",
      "1       (red)     (white)  0.363636    0.666667  1.047619\n",
      "2      (blue)       (red)  0.363636    0.666667  1.222222\n",
      "3       (red)      (blue)  0.363636    0.666667  1.222222\n",
      "4    (orange)     (white)  0.181818    1.000000  1.571429\n",
      "5     (white)    (orange)  0.181818    0.285714  1.571429\n",
      "6      (blue)     (white)  0.363636    0.666667  1.047619\n",
      "7     (white)      (blue)  0.363636    0.571429  1.047619\n"
     ]
    }
   ],
   "source": [
    "print(\"\\nAssociation Rules:\")\n",
    "print(rules[['antecedents','consequents','support','confidence','lift']])\n"
   ]
  },
  {
   "cell_type": "markdown",
   "id": "63d5e7a5-50a7-4bca-a85f-1344af9ffcca",
   "metadata": {},
   "source": [
    "The implementation of Association Rule Learning to analyze previous mobile phone sales provides significant benefits to the manufacturing company. By leveraging historical sales data, the company can make data-driven decisions and enhance targeting for marketing campaigns, leading to improved engagement and conversion rates. Insights into regional sales patterns inform tailored product launch strategies, maximizing the chances of success for new models. This approach allows for optimized resource allocation, ensuring marketing budgets are used effectively. Ultimately, the company gains a competitive advantage and fosters continuous improvement by refining strategies based on real-time feedback, driving increased sales revenue and customer satisfaction."
   ]
  },
  {
   "cell_type": "code",
   "execution_count": null,
   "id": "ce112055-53cb-4634-b9f7-6b54ca9a9f1a",
   "metadata": {},
   "outputs": [],
   "source": []
  },
  {
   "cell_type": "code",
   "execution_count": null,
   "id": "f01a7cff-af75-489d-8f03-5950374ed3a1",
   "metadata": {},
   "outputs": [],
   "source": []
  }
 ],
 "metadata": {
  "kernelspec": {
   "display_name": "Python 3 (ipykernel)",
   "language": "python",
   "name": "python3"
  },
  "language_info": {
   "codemirror_mode": {
    "name": "ipython",
    "version": 3
   },
   "file_extension": ".py",
   "mimetype": "text/x-python",
   "name": "python",
   "nbconvert_exporter": "python",
   "pygments_lexer": "ipython3",
   "version": "3.11.7"
  }
 },
 "nbformat": 4,
 "nbformat_minor": 5
}
